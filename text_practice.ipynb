{
 "cells": [
  {
   "cell_type": "code",
   "execution_count": 1,
   "metadata": {},
   "outputs": [],
   "source": [
    "from konlpy.tag import Kkma"
   ]
  },
  {
   "cell_type": "code",
   "execution_count": 2,
   "metadata": {},
   "outputs": [],
   "source": [
    "import requests"
   ]
  },
  {
   "cell_type": "code",
   "execution_count": 3,
   "metadata": {},
   "outputs": [],
   "source": [
    "import json"
   ]
  },
  {
   "cell_type": "code",
   "execution_count": 4,
   "metadata": {},
   "outputs": [],
   "source": [
    "from collections import Counter"
   ]
  },
  {
   "cell_type": "code",
   "execution_count": 19,
   "metadata": {},
   "outputs": [
    {
     "ename": "SyntaxError",
     "evalue": "invalid syntax (<ipython-input-19-13d3cc6ee822>, line 1)",
     "output_type": "error",
     "traceback": [
      "\u001B[1;36m  File \u001B[1;32m\"<ipython-input-19-13d3cc6ee822>\"\u001B[1;36m, line \u001B[1;32m1\u001B[0m\n\u001B[1;33m    for book in books\u001B[0m\n\u001B[1;37m                     ^\u001B[0m\n\u001B[1;31mSyntaxError\u001B[0m\u001B[1;31m:\u001B[0m invalid syntax\n"
     ]
    }
   ],
   "source": [
    "url = 'https://openapi.naver.com/v1/search/book.json?'\n",
    "client_id = \"QpvvkiISGC1mn16KVb3d\"\n",
    "client_secret = \"ukKNKa8DVk\"\n",
    "keyword = 'ㄱ'\n",
    "query_string = \"query=\" + keyword + \"&display=20&start=1&sort=count\"\n",
    "header = {\n",
    "        \"X-Naver-Client-ID\": client_id,\n",
    "        \"X-Naver-Client-secret\": client_secret\n",
    "    }\n",
    "r = requests.get(url + query_string, headers=header)\n",
    "books = json.loads(r.text)['items']"
   ]
  },
  {
   "cell_type": "code",
   "execution_count": null,
   "metadata": {},
   "outputs": [],
   "source": []
  },
  {
   "cell_type": "code",
   "execution_count": null,
   "metadata": {},
   "outputs": [],
   "source": []
  },
  {
   "cell_type": "code",
   "execution_count": 5,
   "metadata": {
    "pycharm": {
     "name": "#%%\n"
    }
   },
   "outputs": [],
   "source": [
    "kkma = Kkma()"
   ]
  },
  {
   "cell_type": "code",
   "execution_count": 51,
   "metadata": {},
   "outputs": [],
   "source": [
    "para = '형태소 분석을 해봅시다. 스파르타 코딩 클럽 과제로, 스파 스파 사이트 책 관련 사이트를 만들 예정입니다.'"
   ]
  },
  {
   "cell_type": "code",
   "execution_count": 52,
   "metadata": {},
   "outputs": [],
   "source": [
    "ex_sent = kkma.sentences(para)"
   ]
  },
  {
   "cell_type": "code",
   "execution_count": 31,
   "metadata": {},
   "outputs": [
    {
     "data": {
      "text/plain": [
       "2"
      ]
     },
     "execution_count": 31,
     "metadata": {},
     "output_type": "execute_result"
    }
   ],
   "source": [
    "len(ex_sent)"
   ]
  },
  {
   "cell_type": "code",
   "execution_count": 53,
   "metadata": {},
   "outputs": [
    {
     "data": {
      "text/plain": [
       "['형태소 분석을 해봅시다.', '스파 르 타 코딩 클럽 과제로, 스파 스파 사이트 책 관련 사이트를 만들 예정입니다.']"
      ]
     },
     "execution_count": 53,
     "metadata": {},
     "output_type": "execute_result"
    }
   ],
   "source": [
    "ex_sent"
   ]
  },
  {
   "cell_type": "code",
   "execution_count": 54,
   "metadata": {},
   "outputs": [],
   "source": [
    "ex_nouns = kkma.nouns(para)"
   ]
  },
  {
   "cell_type": "code",
   "execution_count": 55,
   "metadata": {},
   "outputs": [
    {
     "data": {
      "text/plain": [
       "['형태소', '분석', '스파', '스파르', '르', '코딩', '클럽', '과제', '사이트', '책', '관련', '예정']"
      ]
     },
     "execution_count": 55,
     "metadata": {},
     "output_type": "execute_result"
    }
   ],
   "source": [
    "ex_nouns"
   ]
  },
  {
   "cell_type": "code",
   "execution_count": 9,
   "metadata": {},
   "outputs": [],
   "source": [
    "ex_pos = kkma.pos(para)"
   ]
  },
  {
   "cell_type": "code",
   "execution_count": 10,
   "metadata": {},
   "outputs": [
    {
     "data": {
      "text/plain": [
       "[('형태소', 'NNG'),\n",
       " ('분석', 'NNG'),\n",
       " ('을', 'JKO'),\n",
       " ('해보', 'VV'),\n",
       " ('ㅂ시다', 'EFA'),\n",
       " ('.', 'SF'),\n",
       " ('스파', 'NNG'),\n",
       " ('르', 'NNG'),\n",
       " ('타', 'VV'),\n",
       " ('아', 'ECS'),\n",
       " ('코딩', 'NNG'),\n",
       " ('클럽', 'NNG'),\n",
       " ('과제', 'NNG'),\n",
       " ('로', 'JKM'),\n",
       " (',', 'SP'),\n",
       " ('책', 'NNG'),\n",
       " ('관련', 'NNG'),\n",
       " ('사이트', 'NNG'),\n",
       " ('를', 'JKO'),\n",
       " ('만들', 'VV'),\n",
       " ('ㄹ', 'ETD'),\n",
       " ('예정', 'NNG'),\n",
       " ('이', 'VCP'),\n",
       " ('ㅂ니다', 'EFN'),\n",
       " ('.', 'SF')]"
      ]
     },
     "execution_count": 10,
     "metadata": {},
     "output_type": "execute_result"
    }
   ],
   "source": [
    "ex_pos"
   ]
  },
  {
   "cell_type": "code",
   "execution_count": 10,
   "metadata": {},
   "outputs": [
    {
     "ename": "NameError",
     "evalue": "name 'ex_pos' is not defined",
     "output_type": "error",
     "traceback": [
      "\u001B[1;31m---------------------------------------------------------------------------\u001B[0m",
      "\u001B[1;31mNameError\u001B[0m                                 Traceback (most recent call last)",
      "\u001B[1;32m<ipython-input-10-cbe9ff2950fc>\u001B[0m in \u001B[0;36m<module>\u001B[1;34m\u001B[0m\n\u001B[0;32m      1\u001B[0m \u001B[0mtext_data\u001B[0m \u001B[1;33m=\u001B[0m \u001B[1;33m[\u001B[0m\u001B[1;33m]\u001B[0m\u001B[1;33m\u001B[0m\u001B[1;33m\u001B[0m\u001B[0m\n\u001B[1;32m----> 2\u001B[1;33m \u001B[1;32mfor\u001B[0m \u001B[1;33m(\u001B[0m\u001B[0mtext\u001B[0m\u001B[1;33m,\u001B[0m\u001B[0mtclass\u001B[0m\u001B[1;33m)\u001B[0m \u001B[1;32min\u001B[0m \u001B[0mex_pos\u001B[0m \u001B[1;33m:\u001B[0m\u001B[1;33m\u001B[0m\u001B[1;33m\u001B[0m\u001B[0m\n\u001B[0m\u001B[0;32m      3\u001B[0m     \u001B[1;32mif\u001B[0m \u001B[0mtclass\u001B[0m \u001B[1;33m==\u001B[0m\u001B[1;34m'NNG'\u001B[0m \u001B[1;32mor\u001B[0m \u001B[0mtclass\u001B[0m \u001B[1;33m==\u001B[0m\u001B[1;34m'NNP'\u001B[0m \u001B[1;32mor\u001B[0m \u001B[0mtclass\u001B[0m \u001B[1;33m==\u001B[0m\u001B[1;34m'NP'\u001B[0m \u001B[1;33m:\u001B[0m\u001B[1;33m\u001B[0m\u001B[1;33m\u001B[0m\u001B[0m\n\u001B[0;32m      4\u001B[0m         \u001B[0mtext_data\u001B[0m\u001B[1;33m.\u001B[0m\u001B[0mappend\u001B[0m\u001B[1;33m(\u001B[0m\u001B[0mtext\u001B[0m\u001B[1;33m)\u001B[0m\u001B[1;33m\u001B[0m\u001B[1;33m\u001B[0m\u001B[0m\n",
      "\u001B[1;31mNameError\u001B[0m: name 'ex_pos' is not defined"
     ]
    }
   ],
   "source": [
    "text_data = []\n",
    "for (text,tclass) in ex_pos :\n",
    "    if tclass =='NNG' or tclass =='NNP' or tclass =='NP' :\n",
    "        text_data.append(text)"
   ]
  },
  {
   "cell_type": "code",
   "execution_count": null,
   "metadata": {},
   "outputs": [],
   "source": [
    "text_data"
   ]
  },
  {
   "cell_type": "code",
   "execution_count": 56,
   "metadata": {},
   "outputs": [],
   "source": [
    "from re import match"
   ]
  },
  {
   "cell_type": "code",
   "execution_count": 57,
   "metadata": {},
   "outputs": [],
   "source": [
    "nouns = []"
   ]
  },
  {
   "cell_type": "code",
   "execution_count": 58,
   "metadata": {},
   "outputs": [],
   "source": [
    "for sent in ex_sent :\n",
    "    for noun in kkma.nouns(sent) :\n",
    "        if len(str(noun)) >=2 and not(match('^[0-9]', noun)):\n",
    "            nouns.append(noun)"
   ]
  },
  {
   "cell_type": "code",
   "execution_count": 59,
   "metadata": {},
   "outputs": [
    {
     "data": {
      "text/plain": [
       "['형태소', '분석', '스파', '코딩', '클럽', '과제', '사이트', '관련', '예정']"
      ]
     },
     "execution_count": 59,
     "metadata": {},
     "output_type": "execute_result"
    }
   ],
   "source": [
    "nouns"
   ]
  },
  {
   "cell_type": "code",
   "execution_count": 60,
   "metadata": {},
   "outputs": [],
   "source": [
    "nouns_count = Counter(nouns)"
   ]
  },
  {
   "cell_type": "code",
   "execution_count": 61,
   "metadata": {},
   "outputs": [
    {
     "data": {
      "text/plain": [
       "Counter({'형태소': 1,\n",
       "         '분석': 1,\n",
       "         '스파': 1,\n",
       "         '코딩': 1,\n",
       "         '클럽': 1,\n",
       "         '과제': 1,\n",
       "         '사이트': 1,\n",
       "         '관련': 1,\n",
       "         '예정': 1})"
      ]
     },
     "execution_count": 61,
     "metadata": {},
     "output_type": "execute_result"
    }
   ],
   "source": [
    "nouns_count"
   ]
  },
  {
   "cell_type": "code",
   "execution_count": 41,
   "metadata": {},
   "outputs": [],
   "source": [
    "nouns_count = dict(nouns_count)"
   ]
  },
  {
   "cell_type": "code",
   "execution_count": 42,
   "metadata": {
    "pycharm": {
     "name": "#%%\n"
    }
   },
   "outputs": [],
   "source": [
    "chart_index = sorted(nouns_count, reverse=True, key=lambda item: item[1])"
   ]
  },
  {
   "cell_type": "code",
   "execution_count": 43,
   "metadata": {},
   "outputs": [],
   "source": [
    "chart_values = list(nouns_count.values())"
   ]
  },
  {
   "cell_type": "code",
   "execution_count": 44,
   "metadata": {
    "pycharm": {
     "name": "#%%\n"
    }
   },
   "outputs": [
    {
     "data": {
      "text/plain": [
       "['스파', '형태소', '과제', '예정', '사이트', '분석', '관련', '클럽', '코딩']"
      ]
     },
     "execution_count": 44,
     "metadata": {},
     "output_type": "execute_result"
    }
   ],
   "source": [
    "chart_index"
   ]
  },
  {
   "cell_type": "code",
   "execution_count": null,
   "outputs": [],
   "source": [
    "chart_values"
   ],
   "metadata": {
    "collapsed": false,
    "pycharm": {
     "name": "#%%\n"
    }
   }
  },
  {
   "cell_type": "code",
   "execution_count": 45,
   "metadata": {},
   "outputs": [
    {
     "data": {
      "text/plain": [
       "[2, 2, 2, 2, 2, 2, 2, 2, 2]"
      ]
     },
     "execution_count": 45,
     "metadata": {},
     "output_type": "execute_result"
    }
   ],
   "source": []
  },
  {
   "cell_type": "code",
   "execution_count": null,
   "metadata": {},
   "outputs": [],
   "source": []
  }
 ],
 "metadata": {
  "kernelspec": {
   "display_name": "Python 3",
   "language": "python",
   "name": "python3"
  },
  "language_info": {
   "codemirror_mode": {
    "name": "ipython",
    "version": 3
   },
   "file_extension": ".py",
   "mimetype": "text/x-python",
   "name": "python",
   "nbconvert_exporter": "python",
   "pygments_lexer": "ipython3",
   "version": "3.8.5"
  }
 },
 "nbformat": 4,
 "nbformat_minor": 1
}